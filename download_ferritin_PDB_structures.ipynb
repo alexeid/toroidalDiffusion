{
 "cells": [
  {
   "cell_type": "markdown",
   "id": "90c32b4b-abb4-431a-90c2-4ab0bcb71d3d",
   "metadata": {},
   "source": [
    "<html>\n",
    "    <summary></summary>\n",
    "         <div> <p></p> </div>\n",
    "         <div style=\"font-size: 20px; width: 800px;\"> \n",
    "              <h1>\n",
    "               <left>Download and Annotate Ferritin X-ray Crystal Structures from PDB</left>\n",
    "              </h1>\n",
    "              <p><left>============================================================================</left> </p>\n",
    "<pre>May, 2025\n",
    "Toroidal diffusion for structural phylogenetics\n",
    "Clementine Yan, Walter Xie, Alex Popinga, Alexei Drummond\n",
    "Notebook by: Alex Popinga\n",
    "</pre>\n",
    "         </div>\n",
    "    </p>\n",
    "\n",
    "</html>\n",
    "\n",
    "<details>\n",
    "  <summary>Copyright info</summary>\n",
    "<details>\n",
    "\n"
   ]
  },
  {
   "cell_type": "code",
   "execution_count": null,
   "id": "33813934",
   "metadata": {},
   "outputs": [],
   "source": [
    "# Import the necessary libraries\n",
    "import os\n",
    "import urllib.request"
   ]
  },
  {
   "cell_type": "markdown",
   "id": "6531efa7",
   "metadata": {},
   "source": [
    "Define a function to download a PDB file and save it in a data directory."
   ]
  },
  {
   "cell_type": "code",
   "execution_count": 2,
   "id": "0e2b46be",
   "metadata": {},
   "outputs": [],
   "source": [
    "def download_pdb(pdbcode, datadir, downloadurl=\"https://files.rcsb.org/download/\"):\n",
    "    \"\"\"\n",
    "    :pdbcode: PDB ID (e.g., '1bcf')\n",
    "    :datadir: Directory where the downloaded file will be saved\n",
    "    :downloadurl: Base PDB download URL\n",
    "        `https://www.rcsb.org/pages/download/http#structures`\n",
    "    :return: the full path to the downloaded PDB file\n",
    "    \"\"\"\n",
    "    pdbfn = pdbcode + \".pdb\"\n",
    "    url = downloadurl + pdbfn\n",
    "    outfnm = os.path.join(datadir, pdbfn)\n",
    "    try:\n",
    "        urllib.request.urlretrieve(url, outfnm)\n",
    "        return outfnm\n",
    "    except Exception as err:\n",
    "        print(str(err), file=sys.stderr)\n",
    "        return None"
   ]
  },
  {
   "cell_type": "markdown",
   "id": "9c460bbc",
   "metadata": {},
   "source": [
    "Define a list of the PDB structures you wish to download."
   ]
  },
  {
   "cell_type": "code",
   "execution_count": 3,
   "id": "19e9d348",
   "metadata": {},
   "outputs": [],
   "source": [
    "ferritin_pdb_codes = ['1bcf', '1bg7', '1dps', '1eum', '1jgc', '1ji4', '1ji5', '1jig', '1jts', '1krq', '1lb3', '1n1q', '1nfv', '1o9r', '1qgh', '1r03', '1tjo', '1tk6', '1uvh', '1vlg', '1z6o', '2chp', '2fjc', '2fkz', '2jd7', '2ux1', '2vzb', '2za7', '3elq', '3e6s', '1jk0', '1mdr', '1oqu', '1rf']"
   ]
  },
  {
   "cell_type": "markdown",
   "id": "20a0bbb6",
   "metadata": {},
   "source": [
    "Loop through your list of desired protein structures and store in the \"data\" folder.\n",
    "\n",
    "*Note: this may take a few minutes, especially if the server is busy.*"
   ]
  },
  {
   "cell_type": "code",
   "execution_count": 4,
   "id": "2cc3186e",
   "metadata": {},
   "outputs": [
    {
     "ename": "NameError",
     "evalue": "name 'os' is not defined",
     "output_type": "error",
     "traceback": [
      "\u001b[0;31m---------------------------------------------------------------------------\u001b[0m",
      "\u001b[0;31mNameError\u001b[0m                                 Traceback (most recent call last)",
      "Cell \u001b[0;32mIn[4], line 3\u001b[0m\n\u001b[1;32m      1\u001b[0m pdb_files \u001b[38;5;241m=\u001b[39m []\n\u001b[1;32m      2\u001b[0m \u001b[38;5;28;01mfor\u001b[39;00m i \u001b[38;5;129;01min\u001b[39;00m \u001b[38;5;28mrange\u001b[39m(\u001b[38;5;241m33\u001b[39m):\n\u001b[0;32m----> 3\u001b[0m     pdb_file \u001b[38;5;241m=\u001b[39m download_pdb(ferritin_pdb_codes[i], \u001b[38;5;124m\"\u001b[39m\u001b[38;5;124mdata/ferritins\u001b[39m\u001b[38;5;124m\"\u001b[39m)\n\u001b[1;32m      4\u001b[0m     pdb_files\u001b[38;5;241m.\u001b[39mappend(pdb_file)\n\u001b[1;32m      5\u001b[0m     \u001b[38;5;28mprint\u001b[39m(pdb_file)\n",
      "Cell \u001b[0;32mIn[2], line 11\u001b[0m, in \u001b[0;36mdownload_pdb\u001b[0;34m(pdbcode, datadir, downloadurl)\u001b[0m\n\u001b[1;32m      9\u001b[0m pdbfn \u001b[38;5;241m=\u001b[39m pdbcode \u001b[38;5;241m+\u001b[39m \u001b[38;5;124m\"\u001b[39m\u001b[38;5;124m.pdb\u001b[39m\u001b[38;5;124m\"\u001b[39m\n\u001b[1;32m     10\u001b[0m url \u001b[38;5;241m=\u001b[39m downloadurl \u001b[38;5;241m+\u001b[39m pdbfn\n\u001b[0;32m---> 11\u001b[0m outfnm \u001b[38;5;241m=\u001b[39m os\u001b[38;5;241m.\u001b[39mpath\u001b[38;5;241m.\u001b[39mjoin(datadir, pdbfn)\n\u001b[1;32m     12\u001b[0m \u001b[38;5;28;01mtry\u001b[39;00m:\n\u001b[1;32m     13\u001b[0m     urllib\u001b[38;5;241m.\u001b[39mrequest\u001b[38;5;241m.\u001b[39murlretrieve(url, outfnm)\n",
      "\u001b[0;31mNameError\u001b[0m: name 'os' is not defined"
     ]
    }
   ],
   "source": [
    "pdb_files = []\n",
    "for i in range(33):\n",
    "    pdb_file = download_pdb(ferritin_pdb_codes[i], \"data/ferritins\")\n",
    "    pdb_files.append(pdb_file)\n",
    "    print(pdb_file)\n"
   ]
  },
  {
   "cell_type": "markdown",
   "id": "382cc6ad",
   "metadata": {},
   "source": [
    "Check that all our structures we pulled from PDB were derived from X-ray diffraction, (not modelled). "
   ]
  },
  {
   "cell_type": "code",
   "execution_count": 25,
   "id": "a750f91b-5d63-4be6-a627-2864fd3d56e8",
   "metadata": {},
   "outputs": [
    {
     "name": "stdout",
     "output_type": "stream",
     "text": [
      "PDB files with X-ray crystallography structures: ['data/ferritins/1bcf.pdb', 'data/ferritins/1bg7.pdb', 'data/ferritins/1dps.pdb', 'data/ferritins/1eum.pdb', 'data/ferritins/1jgc.pdb', 'data/ferritins/1ji4.pdb', 'data/ferritins/1ji5.pdb', 'data/ferritins/1jig.pdb', 'data/ferritins/1jts.pdb', 'data/ferritins/1krq.pdb', 'data/ferritins/1lb3.pdb', 'data/ferritins/1n1q.pdb', 'data/ferritins/1nfv.pdb', 'data/ferritins/1o9r.pdb', 'data/ferritins/1qgh.pdb', 'data/ferritins/1r03.pdb', 'data/ferritins/1tjo.pdb', 'data/ferritins/1tk6.pdb', 'data/ferritins/1uvh.pdb', 'data/ferritins/1vlg.pdb', 'data/ferritins/1z6o.pdb', 'data/ferritins/2chp.pdb', 'data/ferritins/2fjc.pdb', 'data/ferritins/2fkz.pdb', 'data/ferritins/2jd7.pdb', 'data/ferritins/2ux1.pdb', 'data/ferritins/2vzb.pdb', 'data/ferritins/2za7.pdb', 'data/ferritins/3elq.pdb', 'data/ferritins/3e6s.pdb', 'data/ferritins/1jk0.pdb', 'data/ferritins/1mdr.pdb', 'data/ferritins/1oqu.pdb']\n"
     ]
    }
   ],
   "source": [
    "# Ensure our PDB files are all X-ray crystallography structures\n",
    "\n",
    "pdb_file_crystals = []\n",
    "\n",
    "for pdb_file in pdb_files:\n",
    "    with open(pdb_file, 'r') as file:\n",
    "        for line in file:\n",
    "            if \"EXPDTA\" in line:\n",
    "                if \"X-RAY DIFFRACTION\" in line:\n",
    "                    pdb_file_crystals.append(pdb_file)\n",
    "                else:\n",
    "                    print(f\"{pdb_file}: {line.strip()}\")\n",
    "                break\n",
    "\n",
    "print(\"PDB files with X-ray crystallography structures:\", pdb_file_crystals)"
   ]
  }
 ],
 "metadata": {
  "kernelspec": {
   "display_name": "base",
   "language": "python",
   "name": "python3"
  },
  "language_info": {
   "codemirror_mode": {
    "name": "ipython",
    "version": 3
   },
   "file_extension": ".py",
   "mimetype": "text/x-python",
   "name": "python",
   "nbconvert_exporter": "python",
   "pygments_lexer": "ipython3",
   "version": "3.12.7"
  },
  "toc": {
   "base_numbering": 1,
   "nav_menu": {},
   "number_sections": true,
   "sideBar": true,
   "skip_h1_title": false,
   "title_cell": "Table of Contents",
   "title_sidebar": "Contents",
   "toc_cell": false,
   "toc_position": {
    "height": "calc(100% - 180px)",
    "left": "10px",
    "top": "150px",
    "width": "448px"
   },
   "toc_section_display": true,
   "toc_window_display": true
  }
 },
 "nbformat": 4,
 "nbformat_minor": 5
}
