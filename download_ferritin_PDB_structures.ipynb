{
 "cells": [
  {
   "cell_type": "markdown",
   "id": "90c32b4b-abb4-431a-90c2-4ab0bcb71d3d",
   "metadata": {},
   "source": [
    "<html>\n",
    "    <summary></summary>\n",
    "         <div> <p></p> </div>\n",
    "         <div style=\"font-size: 20px; width: 800px;\"> \n",
    "              <h1>\n",
    "               <left>Download and Annotate Ferritin X-ray Crystal Structures from PDB</left>\n",
    "              </h1>\n",
    "              <p><left>============================================================================</left> </p>\n",
    "<pre>May, 2025\n",
    "Toroidal diffusion for structural phylogenetics\n",
    "Clementine Yan, Walter Xie, Alex Popinga, Alexei Drummond\n",
    "Notebook by: Alex Popinga\n",
    "</pre>\n",
    "         </div>\n",
    "    </p>\n",
    "\n",
    "</html>\n",
    "\n",
    "<details>\n",
    "  <summary>Copyright info</summary>\n",
    "<details>\n",
    "\n"
   ]
  },
  {
   "cell_type": "code",
   "execution_count": 36,
   "id": "33813934",
   "metadata": {},
   "outputs": [],
   "source": [
    "#!pip install Bio\n",
    "\n",
    "# Import the necessary libraries\n",
    "import os, sys\n",
    "import urllib.request\n",
    "import Bio\n",
    "import Bio.PDB"
   ]
  },
  {
   "cell_type": "markdown",
   "id": "6531efa7",
   "metadata": {},
   "source": [
    "Define a function to download a PDB file and save it in a data directory."
   ]
  },
  {
   "cell_type": "code",
   "execution_count": 37,
   "id": "0e2b46be",
   "metadata": {},
   "outputs": [],
   "source": [
    "def download_pdb(pdbcode, datadir, downloadurl=\"https://files.rcsb.org/download/\"):\n",
    "    \"\"\"\n",
    "    :pdbcode: PDB ID (e.g., '1bcf')\n",
    "    :datadir: Directory where the downloaded file will be saved\n",
    "    :downloadurl: Base PDB download URL\n",
    "        `https://www.rcsb.org/pages/download/http#structures`\n",
    "    :return: the full path to the downloaded PDB file\n",
    "    \"\"\"\n",
    "    pdbfn = pdbcode + \".pdb\"\n",
    "    url = downloadurl + pdbfn\n",
    "    outfnm = os.path.join(datadir, pdbfn)\n",
    "    try:\n",
    "        urllib.request.urlretrieve(url, outfnm)\n",
    "        return outfnm\n",
    "    except Exception as err:\n",
    "        print(str(err), file=sys.stderr)\n",
    "        return None"
   ]
  },
  {
   "cell_type": "markdown",
   "id": "9c460bbc",
   "metadata": {},
   "source": [
    "Define a list of the PDB structures you wish to download."
   ]
  },
  {
   "cell_type": "code",
   "execution_count": null,
   "id": "19e9d348",
   "metadata": {},
   "outputs": [],
   "source": [
    "ferritin_pdb_codes = ['1bcf', '1bg7', '1dps', '1eum', '1jgc', '1ji4', '1ji5', '1jig', '1jts', '1krq', '1lb3', '1n1q', '1nfv', '1o9r', '1qgh', '1r03', '1tjo', '1tk6', '1uvh', '1vlg', '2chp', '2fjc', '2fkz', '2jd7', '2ux1', '2vzb', '2za7', '3e6s', '1jk0', '1mdr', '1r2f', '2fzf', '1za0', '2uw1', '1otk']"
   ]
  },
  {
   "cell_type": "markdown",
   "id": "20a0bbb6",
   "metadata": {},
   "source": [
    "Loop through your list of desired protein structures and store in the \"data\" folder.\n",
    "\n",
    "*Note: this may take a few minutes, especially if the server is busy.*"
   ]
  },
  {
   "cell_type": "code",
   "execution_count": 58,
   "id": "2cc3186e",
   "metadata": {},
   "outputs": [
    {
     "name": "stdout",
     "output_type": "stream",
     "text": [
      "45 structures to download: \n",
      "data/ferritins/1bcf.pdb\n",
      "data/ferritins/1bg7.pdb\n",
      "data/ferritins/1dps.pdb\n",
      "data/ferritins/1eum.pdb\n",
      "data/ferritins/1jgc.pdb\n",
      "data/ferritins/1ji4.pdb\n",
      "data/ferritins/1ji5.pdb\n",
      "data/ferritins/1jig.pdb\n",
      "data/ferritins/1jts.pdb\n",
      "data/ferritins/1krq.pdb\n",
      "data/ferritins/1lb3.pdb\n",
      "data/ferritins/1n1q.pdb\n",
      "data/ferritins/1nfv.pdb\n",
      "data/ferritins/1o9r.pdb\n",
      "data/ferritins/1qgh.pdb\n",
      "data/ferritins/1r03.pdb\n",
      "data/ferritins/1tjo.pdb\n",
      "data/ferritins/1tk6.pdb\n",
      "data/ferritins/1uvh.pdb\n",
      "data/ferritins/1vlg.pdb\n",
      "data/ferritins/2chp.pdb\n",
      "data/ferritins/2fjc.pdb\n",
      "data/ferritins/2fkz.pdb\n",
      "data/ferritins/2jd7.pdb\n",
      "data/ferritins/2ux1.pdb\n",
      "data/ferritins/2vzb.pdb\n",
      "data/ferritins/2za7.pdb\n",
      "data/ferritins/3elq.pdb\n",
      "data/ferritins/3e6s.pdb\n",
      "data/ferritins/1jk0.pdb\n",
      "data/ferritins/1mdr.pdb\n",
      "data/ferritins/1r2f.pdb\n",
      "data/ferritins/1uzr.pdb\n",
      "data/ferritins/1w68.pdb\n",
      "data/ferritins/2uw2.pdb\n",
      "data/ferritins/3ee4.pdb\n",
      "data/ferritins/3dhg.pdb\n",
      "data/ferritins/1lko.pdb\n",
      "data/ferritins/1yuz.pdb\n",
      "data/ferritins/2fzf.pdb\n",
      "data/ferritins/3qhb.pdb\n",
      "data/ferritins/1afr.pdb\n",
      "data/ferritins/1za0.pdb\n",
      "data/ferritins/2uw1.pdb\n",
      "data/ferritins/1otk.pdb\n"
     ]
    }
   ],
   "source": [
    "pdb_files = []\n",
    "num_struct = len(ferritin_pdb_codes)\n",
    "print(str(num_struct) + \" structures to download: \")\n",
    "for i in range(num_struct):\n",
    "    pdb_file = download_pdb(ferritin_pdb_codes[i], \"data/ferritins\")\n",
    "    pdb_files.append(pdb_file)\n",
    "    print(pdb_file)\n"
   ]
  },
  {
   "cell_type": "markdown",
   "id": "382cc6ad",
   "metadata": {},
   "source": [
    "Check that all our structures we pulled from PDB were derived from X-ray diffraction, (not modelled). "
   ]
  },
  {
   "cell_type": "code",
   "execution_count": 52,
   "id": "a750f91b-5d63-4be6-a627-2864fd3d56e8",
   "metadata": {},
   "outputs": [
    {
     "name": "stdout",
     "output_type": "stream",
     "text": [
      "PDB files with X-ray crystallography structures: ['data/ferritins/1bcf.pdb', 'data/ferritins/1bg7.pdb', 'data/ferritins/1dps.pdb', 'data/ferritins/1eum.pdb', 'data/ferritins/1jgc.pdb', 'data/ferritins/1ji4.pdb', 'data/ferritins/1ji5.pdb', 'data/ferritins/1jig.pdb', 'data/ferritins/1jts.pdb', 'data/ferritins/1krq.pdb', 'data/ferritins/1lb3.pdb', 'data/ferritins/1n1q.pdb', 'data/ferritins/1nfv.pdb', 'data/ferritins/1o9r.pdb', 'data/ferritins/1qgh.pdb', 'data/ferritins/1r03.pdb', 'data/ferritins/1tjo.pdb', 'data/ferritins/1tk6.pdb', 'data/ferritins/1uvh.pdb', 'data/ferritins/1vlg.pdb', 'data/ferritins/2chp.pdb', 'data/ferritins/2fjc.pdb', 'data/ferritins/2fkz.pdb', 'data/ferritins/2jd7.pdb', 'data/ferritins/2ux1.pdb', 'data/ferritins/2vzb.pdb', 'data/ferritins/2za7.pdb', 'data/ferritins/3elq.pdb', 'data/ferritins/3e6s.pdb', 'data/ferritins/1jk0.pdb', 'data/ferritins/1mdr.pdb', 'data/ferritins/1r2f.pdb', 'data/ferritins/1uzr.pdb', 'data/ferritins/1w68.pdb', 'data/ferritins/2uw2.pdb', 'data/ferritins/3ee4.pdb', 'data/ferritins/3dhg.pdb', 'data/ferritins/1lko.pdb', 'data/ferritins/1yuz.pdb', 'data/ferritins/2fzf.pdb', 'data/ferritins/3qhb.pdb', 'data/ferritins/1afr.pdb', 'data/ferritins/1za0.pdb', 'data/ferritins/2uw1.pdb', 'data/ferritins/1otk.pdb']\n"
     ]
    }
   ],
   "source": [
    "# Ensure our PDB files are all X-ray crystallography structures\n",
    "\n",
    "pdb_file_crystals = []\n",
    "\n",
    "for pdb_file in pdb_files:\n",
    "    with open(pdb_file, 'r') as file:\n",
    "        for line in file:\n",
    "            if \"EXPDTA\" in line:\n",
    "                if \"X-RAY DIFFRACTION\" in line:\n",
    "                    pdb_file_crystals.append(pdb_file)\n",
    "                else:\n",
    "                    print(f\"{pdb_file}: {line.strip()}\")\n",
    "                break\n",
    "\n",
    "print(\"PDB files with X-ray crystallography structures:\", pdb_file_crystals)"
   ]
  }
 ],
 "metadata": {
  "kernelspec": {
   "display_name": "base",
   "language": "python",
   "name": "python3"
  },
  "language_info": {
   "codemirror_mode": {
    "name": "ipython",
    "version": 3
   },
   "file_extension": ".py",
   "mimetype": "text/x-python",
   "name": "python",
   "nbconvert_exporter": "python",
   "pygments_lexer": "ipython3",
   "version": "3.12.7"
  },
  "toc": {
   "base_numbering": 1,
   "nav_menu": {},
   "number_sections": true,
   "sideBar": true,
   "skip_h1_title": false,
   "title_cell": "Table of Contents",
   "title_sidebar": "Contents",
   "toc_cell": false,
   "toc_position": {
    "height": "calc(100% - 180px)",
    "left": "10px",
    "top": "150px",
    "width": "448px"
   },
   "toc_section_display": true,
   "toc_window_display": true
  }
 },
 "nbformat": 4,
 "nbformat_minor": 5
}
