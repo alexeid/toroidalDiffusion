{
 "cells": [
  {
   "cell_type": "markdown",
   "id": "90c32b4b-abb4-431a-90c2-4ab0bcb71d3d",
   "metadata": {},
   "source": [
    "<html>\n",
    "    <summary></summary>\n",
    "         <div> <p></p> </div>\n",
    "         <div style=\"font-size: 20px; width: 800px;\"> \n",
    "              <h1>\n",
    "               <left>Extract Individual Ferritin X-ray Crystal Structures and Amino Acid Sequences from POSA Structural Alignment</left>\n",
    "              </h1>\n",
    "              <p><left>============================================================================</left> </p>\n",
    "<pre>May, 2025\n",
    "Toroidal diffusion for structural phylogenetics\n",
    "Clementine Yan, Walter Xie, Alex Popinga, Alexei Drummond\n",
    "Notebook by: Alex Popinga\n",
    "</pre>\n",
    "         </div>\n",
    "    </p>\n",
    "\n",
    "</html>\n",
    "\n",
    "<details>\n",
    "  <summary>Copyright info</summary>\n",
    "<details>\n",
    "\n"
   ]
  },
  {
   "cell_type": "markdown",
   "id": "63982a94",
   "metadata": {},
   "source": [
    "(Input: PDB File, Output: PDB file, FASTA file)"
   ]
  },
  {
   "cell_type": "markdown",
   "id": "6531efa7",
   "metadata": {},
   "source": [
    "Define functions to extract the individual ferritin structures and amino acid sequences, then output as individual PDB files and FASTA files, respectively."
   ]
  },
  {
   "cell_type": "code",
   "execution_count": null,
   "id": "ab0ad2f0",
   "metadata": {},
   "outputs": [],
   "source": [
    "import os\n",
    "import re\n",
    "\n",
    "def extract_ferritin_structures(input_pdb_file):\n",
    "    with open(input_pdb_file, 'r') as file:\n",
    "        lines = file.readlines()\n",
    "    \n",
    "    current_structure = []\n",
    "    structure_id = None\n",
    "    sequences = {}\n",
    "    \n",
    "    for line in lines:\n",
    "        if line.startswith(\"HEADER\"):  # Identify the start of a new structure\n",
    "            if structure_id and current_structure:\n",
    "                write_pdb(structure_id, current_structure)\n",
    "                sequences[structure_id] = extract_sequence(current_structure)\n",
    "            structure_id = line.split()[-1]  # Last word in HEADER is assumed to be the ID\n",
    "            structure_id = re.sub(r\"-tran\\.pdb$\", \"\", structure_id)  # Remove \"-tran.pdb\" suffix\n",
    "            current_structure = [line]\n",
    "        elif line.startswith(\"TER\"):  # Termination of the current structure\n",
    "            current_structure.append(line)\n",
    "            if structure_id:\n",
    "                write_pdb(structure_id, current_structure)\n",
    "                sequences[structure_id] = extract_sequence(current_structure)\n",
    "            current_structure = []\n",
    "            structure_id = None\n",
    "        elif structure_id:\n",
    "            current_structure.append(line)\n",
    "    \n",
    "    write_fasta(input_pdb_file, sequences)\n",
    "\n",
    "def write_pdb(structure_id, pdb_lines):\n",
    "    filename = f\"{structure_id}.pdb\"\n",
    "    with open(filename, 'w') as out_file:\n",
    "        out_file.writelines(pdb_lines)\n",
    "    print(f\"Extracted: {filename}\")\n",
    "\n",
    "def extract_sequence(pdb_lines):\n",
    "    amino_acids = {\n",
    "        'ALA': 'A', 'ARG': 'R', 'ASN': 'N', 'ASP': 'D', 'CYS': 'C',\n",
    "        'GLN': 'Q', 'GLU': 'E', 'GLY': 'G', 'HIS': 'H', 'ILE': 'I',\n",
    "        'LEU': 'L', 'LYS': 'K', 'MET': 'M', 'PHE': 'F', 'PRO': 'P',\n",
    "        'SER': 'S', 'THR': 'T', 'TRP': 'W', 'TYR': 'Y', 'VAL': 'V'\n",
    "    }\n",
    "    sequence = []\n",
    "    seen_residues = set()\n",
    "    \n",
    "    for line in pdb_lines:\n",
    "        if line.startswith(\"ATOM\") and line[13:15].strip() == \"CA\":\n",
    "            res_name = line[17:20].strip()\n",
    "            res_num = line[22:26].strip()\n",
    "            \n",
    "            if (res_name, res_num) not in seen_residues:\n",
    "                seen_residues.add((res_name, res_num))\n",
    "                if res_name in amino_acids:\n",
    "                    sequence.append(amino_acids[res_name])\n",
    "    \n",
    "    return \"\".join(sequence)\n",
    "\n",
    "def write_fasta(input_pdb_file, sequences):\n",
    "    fasta_filename = os.path.splitext(os.path.basename(input_pdb_file))[0] + \"_sequences.fasta\"\n",
    "    with open(fasta_filename, 'w') as fasta_file:\n",
    "        for structure_id, sequence in sequences.items():\n",
    "            fasta_file.write(f\">{structure_id}\\n{sequence}\\n\")\n",
    "    print(f\"FASTA file created: {fasta_filename}\")"
   ]
  },
  {
   "cell_type": "markdown",
   "id": "fc4bb7a8",
   "metadata": {},
   "source": [
    "Call each alignment and output both alignments into one FASTA file."
   ]
  },
  {
   "cell_type": "code",
   "execution_count": null,
   "id": "1152f3dd",
   "metadata": {},
   "outputs": [
    {
     "name": "stdout",
     "output_type": "stream",
     "text": [
      "Extracted: 1vlgA.pdb\n",
      "Extracted: 1lb3A.pdb\n",
      "Extracted: 1krqA.pdb\n",
      "Extracted: 1jtsA.pdb\n",
      "Extracted: 1jigA.pdb\n",
      "Extracted: 1ji5A.pdb\n",
      "Extracted: 1ji4A.pdb\n",
      "Extracted: 1jgcA.pdb\n",
      "Extracted: 1eumA.pdb\n",
      "Extracted: 1dpsA.pdb\n",
      "Extracted: 1bg7A.pdb\n",
      "Extracted: 1uvhA.pdb\n",
      "Extracted: 1bcfA.pdb\n",
      "Extracted: 1tk6A.pdb\n",
      "Extracted: 1tjoA.pdb\n",
      "Extracted: 1r03A.pdb\n",
      "Extracted: 1qghA.pdb\n",
      "Extracted: 1o9rA.pdb\n",
      "Extracted: 1nfvA.pdb\n",
      "FASTA file created: ferritins_a_sequences.fasta\n",
      "Extracted: 1za0A.pdb\n",
      "Extracted: 3e6sA.pdb\n",
      "Extracted: 2uw1A.pdb\n",
      "Extracted: 1otkA.pdb\n",
      "Extracted: 2fzfA.pdb\n",
      "Extracted: 2chpA.pdb\n",
      "Extracted: 2fkzA.pdb\n",
      "Extracted: 2jd70.pdb\n",
      "Extracted: 2vzbA.pdb\n",
      "FASTA file created: ferritins_b_sequences.fasta\n"
     ]
    }
   ],
   "source": [
    "if __name__ == \"__main__\":\n",
    "    input_pdb_file_a = \"POSA Structural Alignments/ferritins_a.pdb\"\n",
    "    extract_ferritin_structures(input_pdb_file_a)\n",
    "if __name__ == \"__main__\":\n",
    "    input_pdb_file_b = \"POSA Structural Alignments/ferritins_b.pdb\"\n",
    "    extract_ferritin_structures(input_pdb_file_b)\n",
    "    \n",
    "# Combine the two FASTA files into a single file\n",
    "# with open(\"POSA Structural Alignments/ferritins_sequences.fasta\", 'w') as out_file:\n",
    "#     for input_file in [input_pdb_file_a, input_pdb_file_b]:\n",
    "#         with open(os.path.splitext(input_file)[0] + \"_sequences.fasta\", 'r') as in_file:\n",
    "#             out_file.write(in_file.read())\n",
    "#     print(\"Combined FASTA file created: ferritins_sequences.fasta\")"
   ]
  },
  {
   "cell_type": "markdown",
   "id": "e24289e1",
   "metadata": {},
   "source": [
    "Do the same for the MUSTANG alignment."
   ]
  },
  {
   "cell_type": "code",
   "execution_count": 8,
   "id": "d71443a4",
   "metadata": {},
   "outputs": [
    {
     "name": "stdout",
     "output_type": "stream",
     "text": [
      "Extracted: 1BCFA.pdb.pdb\n",
      "Extracted: 1jigA.pdb.pdb\n",
      "Extracted: 1nfvA.pdb.pdb\n",
      "Extracted: 1uvhA.pdb.pdb\n",
      "Extracted: 2jd70.pdb.pdb\n",
      "Extracted: 1o9rA.pdb.pdb\n",
      "Extracted: 1vlgA.pdb.pdb\n",
      "Extracted: 2uw1A.pdb.pdb\n",
      "Extracted: 1dpsA.pdb.pdb\n",
      "Extracted: 1jtsA.pdb.pdb\n",
      "Extracted: 1otkA.pdb.pdb\n",
      "Extracted: 1eumA.pdb.pdb\n",
      "Extracted: 1krqA.pdb.pdb\n",
      "Extracted: 1qghA.pdb.pdb\n",
      "Extracted: 2chpA.pdb.pdb\n",
      "Extracted: 2vzbA.pdb.pdb\n",
      "Extracted: 1jgcA.pdb.pdb\n",
      "Extracted: 1lb3A.pdb.pdb\n",
      "Extracted: 1r03A.pdb.pdb\n",
      "Extracted: 1ji4A.pdb.pdb\n",
      "Extracted: 2fkzA.pdb.pdb\n",
      "Extracted: 3e6sA.pdb.pdb\n",
      "Extracted: 1ji5A.pdb.pdb\n",
      "Extracted: 1tjoA.pdb.pdb\n",
      "Extracted: 2fzfA.pdb.pdb\n",
      "FASTA file created: ferritins_sequences.fasta\n"
     ]
    }
   ],
   "source": [
    "if __name__ == \"__main__\":\n",
    "    input_pdb_file_m = \"MUSTANG Structural Alignments/ferritins.pdb\"\n",
    "    extract_ferritin_structures(input_pdb_file_m)"
   ]
  }
 ],
 "metadata": {
  "kernelspec": {
   "display_name": "base",
   "language": "python",
   "name": "python3"
  },
  "language_info": {
   "codemirror_mode": {
    "name": "ipython",
    "version": 3
   },
   "file_extension": ".py",
   "mimetype": "text/x-python",
   "name": "python",
   "nbconvert_exporter": "python",
   "pygments_lexer": "ipython3",
   "version": "3.12.7"
  },
  "toc": {
   "base_numbering": 1,
   "nav_menu": {},
   "number_sections": true,
   "sideBar": true,
   "skip_h1_title": false,
   "title_cell": "Table of Contents",
   "title_sidebar": "Contents",
   "toc_cell": false,
   "toc_position": {
    "height": "calc(100% - 180px)",
    "left": "10px",
    "top": "150px",
    "width": "448px"
   },
   "toc_section_display": true,
   "toc_window_display": true
  }
 },
 "nbformat": 4,
 "nbformat_minor": 5
}
